{
 "cells": [
  {
   "cell_type": "code",
   "execution_count": 1,
   "metadata": {},
   "outputs": [
    {
     "name": "stdout",
     "output_type": "stream",
     "text": [
      "(60, 512, 512, 3)\n"
     ]
    }
   ],
   "source": [
    "import cv2\n",
    "import numpy as np\n",
    "import os\n",
    "\n",
    "# Set the path to the test image directory\n",
    "test_dir = \"D:/FYP/Dataset/Dataset for Camera Settings/Test Data\"\n",
    "\n",
    "# Set the desired image size\n",
    "img_size = (512, 512)\n",
    "\n",
    "# Create an empty list to store the preprocessed test images\n",
    "test_images = []\n",
    "\n",
    "# Loop over the files in the test directory and preprocess each image\n",
    "for filename in os.listdir(test_dir):\n",
    "    if filename.lower().endswith(\".jpg\"):\n",
    "\n",
    "        # Load the image\n",
    "        img = cv2.imread(os.path.join(test_dir, filename))\n",
    "        # Resize the image to the desired size\n",
    "        img = cv2.resize(img, img_size)\n",
    "        # Convert the image to a numpy array and normalize the pixel values\n",
    "        img = np.asarray(img, dtype=\"float32\") / 255.0\n",
    "        # Append the preprocessed image to the list of test images\n",
    "        test_images.append(img)\n",
    "\n",
    "# Convert the list of test images to a numpy array\n",
    "test_images = np.array(test_images)\n",
    "\n",
    "# Print the shape of the test images array to make sure it matches the expected shape\n",
    "print(test_images.shape)\n"
   ]
  },
  {
   "cell_type": "code",
   "execution_count": 2,
   "metadata": {},
   "outputs": [
    {
     "name": "stdout",
     "output_type": "stream",
     "text": [
      "2/2 [==============================] - 17s 8s/step\n",
      "Confusion Matrix:\n",
      "[[ 0  0  0  0 12]\n",
      " [ 0  0  0  0 12]\n",
      " [ 0  0  0  0 12]\n",
      " [ 0  0  0  0 12]\n",
      " [ 0  0  0  0 12]]\n",
      "Classification Report:\n",
      "                        precision    recall  f1-score   support\n",
      "\n",
      "           c - ISO Low       0.00      0.00      0.00        12\n",
      "           1 - Correct       0.00      0.00      0.00        12\n",
      " b - Shutter Speed Low       0.00      0.00      0.00        12\n",
      "          d - ISO High       0.00      0.00      0.00        12\n",
      "a - Shutter Speed High       0.20      1.00      0.33        12\n",
      "\n",
      "              accuracy                           0.20        60\n",
      "             macro avg       0.04      0.20      0.07        60\n",
      "          weighted avg       0.04      0.20      0.07        60\n",
      "\n"
     ]
    },
    {
     "name": "stderr",
     "output_type": "stream",
     "text": [
      "c:\\Users\\Ph03nix6\\AppData\\Local\\Programs\\Python\\Python38\\lib\\site-packages\\sklearn\\metrics\\_classification.py:1334: UndefinedMetricWarning: Precision and F-score are ill-defined and being set to 0.0 in labels with no predicted samples. Use `zero_division` parameter to control this behavior.\n",
      "  _warn_prf(average, modifier, msg_start, len(result))\n",
      "c:\\Users\\Ph03nix6\\AppData\\Local\\Programs\\Python\\Python38\\lib\\site-packages\\sklearn\\metrics\\_classification.py:1334: UndefinedMetricWarning: Precision and F-score are ill-defined and being set to 0.0 in labels with no predicted samples. Use `zero_division` parameter to control this behavior.\n",
      "  _warn_prf(average, modifier, msg_start, len(result))\n",
      "c:\\Users\\Ph03nix6\\AppData\\Local\\Programs\\Python\\Python38\\lib\\site-packages\\sklearn\\metrics\\_classification.py:1334: UndefinedMetricWarning: Precision and F-score are ill-defined and being set to 0.0 in labels with no predicted samples. Use `zero_division` parameter to control this behavior.\n",
      "  _warn_prf(average, modifier, msg_start, len(result))\n"
     ]
    }
   ],
   "source": [
    "from sklearn.metrics import confusion_matrix, classification_report\n",
    "from keras.models import Model, load_model\n",
    "import numpy as np\n",
    "\n",
    "\n",
    "# Load the saved ResNet50 model\n",
    "# resnet50 = load_model(\"D:/FYP/Phaedra_BE/resnet50.h5\")\n",
    "# resnet50 = load_model(\"D:/FYP/Dataset/Dataset for Camera Settings/resnet50.h5\")\n",
    "resnet50 = load_model(\"D:/FYP/Phaedra_BE/resnet502.h5\")\n",
    "\n",
    "\n",
    "# Assign the possible classes\n",
    "cm_classes = ['c - ISO Low', '1 - Correct', 'b - Shutter Speed Low', 'd - ISO High', 'a - Shutter Speed High']\n",
    "\n",
    "\n",
    "# Use the model to predict class labels for the test data\n",
    "y_pred = resnet50.predict(test_images)\n",
    "\n",
    "# Define the true labels for the test data\n",
    "# y_true = np.array([0, 1, 2, 3, 4, 0, 1, 2, 3, 4, 0, 1, 2, 3, 4, 0, 1, 2, 3, 4, 0, 1, 2, 3, 4, 0, 1, 2, 3, 4, 0, 1, 2, 3, 4, 0])\n",
    "\n",
    "n_samples = 60\n",
    "n_classes = 5\n",
    "y_true = np.array([i % n_classes for i in range(n_samples)])\n",
    "\n",
    "\n",
    "assert len(test_images) == len(y_true), \"Number of test images does not match the length of y_true\"\n",
    "\n",
    "# Convert the predicted probabilities into class labels (i.e., the index of the highest probability)\n",
    "y_pred_labels = np.argmax(y_pred, axis=1)\n",
    "\n",
    "# Calculate the confusion matrix\n",
    "cm = confusion_matrix(y_true, y_pred_labels)\n",
    "\n",
    "# Calculate the classification report (which includes precision, recall, and F1 score)\n",
    "report = classification_report(y_true, y_pred_labels, target_names=cm_classes)\n",
    "\n",
    "# Print the confusion matrix and classification report\n",
    "print(\"Confusion Matrix:\")\n",
    "print(cm)\n",
    "print(\"Classification Report:\")\n",
    "print(report)"
   ]
  }
 ],
 "metadata": {
  "kernelspec": {
   "display_name": "Python 3",
   "language": "python",
   "name": "python3"
  },
  "language_info": {
   "codemirror_mode": {
    "name": "ipython",
    "version": 3
   },
   "file_extension": ".py",
   "mimetype": "text/x-python",
   "name": "python",
   "nbconvert_exporter": "python",
   "pygments_lexer": "ipython3",
   "version": "3.8.2"
  },
  "orig_nbformat": 4
 },
 "nbformat": 4,
 "nbformat_minor": 2
}
