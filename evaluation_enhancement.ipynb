{
 "cells": [
  {
   "cell_type": "code",
   "execution_count": 5,
   "metadata": {},
   "outputs": [],
   "source": [
    "import os\n",
    "import cv2\n",
    "import numpy as np\n",
    "from keras.models import load_model\n",
    "from skimage.metrics import structural_similarity as ssim\n",
    "from PIL import Image\n",
    "import imageio\n",
    "import keras.utils as image"
   ]
  },
  {
   "cell_type": "code",
   "execution_count": 13,
   "metadata": {},
   "outputs": [],
   "source": [
    "def pre_process_img(imagepath):\n",
    "    \n",
    "        up_img = Image.open(imagepath)\n",
    "        up_img = up_img.resize((512, 512), Image.ANTIALIAS)\n",
    "        up_array = image.img_to_array(up_img)\n",
    "        up_array = np.expand_dims(up_array, axis=0)\n",
    "        up_array /= 255.\n",
    "\n",
    "        return up_array\n",
    "\n",
    "def img_enh(imagepath, modelpath):\n",
    "    processedImage = pre_process_img(imagepath)\n",
    "    og_img = Image.open(imagepath)\n",
    "    orig_image = np.asarray(og_img)\n",
    "    enh_model = load_model(modelpath, compile=False)\n",
    "\n",
    "    # Enhancing the image\n",
    "    gen_image = enh_model.predict(processedImage)\n",
    "    gen_image = gen_image.reshape(gen_image.shape[1:])\n",
    "\n",
    "    final_image = cv2.resize(gen_image,\n",
    "                             (int(orig_image.shape[1]/2), int(orig_image.shape[0]/2)),\n",
    "                             interpolation=cv2.INTER_AREA)\n",
    "    final_image = cv2.normalize(final_image, None, 0, 255, cv2.NORM_MINMAX, cv2.CV_8U)\n",
    "\n",
    "    temp_path = os.path.join('D:/FYP/Phaedra_BE', 'editedimage_1.jpg')\n",
    "    imageio.imwrite(temp_path, final_image)\n",
    "    enhanced_image = cv2.imread(temp_path)\n",
    "\n",
    "    # Resize the original image to match the enhanced image\n",
    "    resized_orig_image = cv2.resize(orig_image, (enhanced_image.shape[1], enhanced_image.shape[0]))\n",
    "\n",
    "    return resized_orig_image, enhanced_image\n",
    "\n",
    "def mse(x, y):\n",
    "    return np.mean((x - y) ** 2)\n",
    "\n",
    "def psnr(x, y, max_pixel_value=255.0):\n",
    "    mse_value = mse(x, y)\n",
    "    return 20 * np.log10(max_pixel_value) - 10 * np.log10(mse_value)"
   ]
  },
  {
   "cell_type": "code",
   "execution_count": 14,
   "metadata": {},
   "outputs": [
    {
     "name": "stderr",
     "output_type": "stream",
     "text": [
      "C:\\Users\\Ph03nix6\\AppData\\Local\\Temp\\ipykernel_31280\\202331273.py:4: DeprecationWarning: ANTIALIAS is deprecated and will be removed in Pillow 10 (2023-07-01). Use LANCZOS or Resampling.LANCZOS instead.\n",
      "  up_img = up_img.resize((512, 512), Image.ANTIALIAS)\n"
     ]
    },
    {
     "name": "stdout",
     "output_type": "stream",
     "text": [
      "WARNING:tensorflow:5 out of the last 5 calls to <function Model.make_predict_function.<locals>.predict_function at 0x00000299AB5599D0> triggered tf.function retracing. Tracing is expensive and the excessive number of tracings could be due to (1) creating @tf.function repeatedly in a loop, (2) passing tensors with different shapes, (3) passing Python objects instead of tensors. For (1), please define your @tf.function outside of the loop. For (2), @tf.function has reduce_retracing=True option that can avoid unnecessary retracing. For (3), please refer to https://www.tensorflow.org/guide/function#controlling_retracing and https://www.tensorflow.org/api_docs/python/tf/function for  more details.\n",
      "1/1 [==============================] - 1s 1s/step\n"
     ]
    },
    {
     "name": "stderr",
     "output_type": "stream",
     "text": [
      "C:\\Users\\Ph03nix6\\AppData\\Local\\Temp\\ipykernel_31280\\1355721650.py:8: FutureWarning: `multichannel` is a deprecated argument name for `structural_similarity`. It will be removed in version 1.0. Please use `channel_axis` instead.\n",
      "  ssim_value = ssim(resized_orig_image, enhanced_image, multichannel=True)\n"
     ]
    },
    {
     "name": "stdout",
     "output_type": "stream",
     "text": [
      "PSNR: 29.056469723901856\n",
      "\n",
      "SSIM: 0.5549690583495912\n",
      "\n",
      "MSE: 80.80409833333333\n"
     ]
    }
   ],
   "source": [
    "imagepath = 'D:/FYP/Phaedra_BE/65d.jpg'\n",
    "modelpath = 'EnhancementModel2_up.h5'\n",
    "\n",
    "resized_orig_image, enhanced_image = img_enh(imagepath, modelpath)\n",
    "\n",
    "# Calculate the metrics\n",
    "psnr_value = psnr(resized_orig_image, enhanced_image)\n",
    "ssim_value = ssim(resized_orig_image, enhanced_image, multichannel=True)\n",
    "mse_value = mse(resized_orig_image, enhanced_image)\n",
    "\n",
    "print(\"PSNR:\", psnr_value)\n",
    "print()\n",
    "print(\"SSIM:\", ssim_value)\n",
    "print()\n",
    "print(\"MSE:\", mse_value)"
   ]
  }
 ],
 "metadata": {
  "kernelspec": {
   "display_name": "Python 3",
   "language": "python",
   "name": "python3"
  },
  "language_info": {
   "codemirror_mode": {
    "name": "ipython",
    "version": 3
   },
   "file_extension": ".py",
   "mimetype": "text/x-python",
   "name": "python",
   "nbconvert_exporter": "python",
   "pygments_lexer": "ipython3",
   "version": "3.8.2"
  },
  "orig_nbformat": 4
 },
 "nbformat": 4,
 "nbformat_minor": 2
}
