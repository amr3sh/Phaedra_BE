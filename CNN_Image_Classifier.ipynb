{
  "cells": [
    {
      "cell_type": "code",
      "execution_count": 2,
      "metadata": {
        "id": "CoRxDEF3ycpB"
      },
      "outputs": [],
      "source": [
        "import os\n",
        "from os import listdir, makedirs\n",
        "from os.path import join, exists, expanduser\n",
        " \n",
        "from keras import applications\n",
        "from keras.preprocessing.image import ImageDataGenerator\n",
        "from keras import optimizers\n",
        "from keras.models import Sequential, Model\n",
        "from keras.layers import Dense, GlobalAveragePooling2D\n",
        "from keras.layers import Activation, Dropout, Flatten, Dense\n",
        "from keras import backend as K\n",
        "import tensorflow as tf\n",
        "import cv2\n",
        "import numpy as np\n",
        "from skimage import io\n",
        "import matplotlib.pyplot as plt"
      ]
    },
    {
      "cell_type": "code",
      "execution_count": 3,
      "metadata": {
        "id": "G1EjvZg6z-mv"
      },
      "outputs": [],
      "source": [
        "camera_settings = 'D:/FYP/Dataset/Dataset for Camera Settings/'\n",
        "batch_size = 100\n",
        "cm_classes = ['c - ISO Low', '1 - Correct', 'b - Shutter Speed Low', 'd - ISO High', 'a - Shutter Speed High']"
      ]
    },
    {
      "cell_type": "code",
      "execution_count": 24,
      "metadata": {
        "id": "oUSqZf9O1DWP"
      },
      "outputs": [],
      "source": [
        "# Read Accident Detection Data\n",
        "cm_iso_low=[]\n",
        "cm_correct=[]\n",
        "cm_spd_low=[]\n",
        "cm_iso_high=[]\n",
        "cm_spd_high=[]\n",
        "\n",
        "import glob, os\n",
        "for indv in cm_classes:\n",
        "  os.chdir(camera_settings+\"/\"+indv)\n",
        "  for file in glob.glob(\"*.jpg\"):\n",
        "    if indv == 'c - ISO Low':\n",
        "      image = cv2.imread(camera_settings+\"/\"+indv+\"/\"+file)\n",
        "      image = cv2.resize(image, (128,128), interpolation = cv2.INTER_AREA)\n",
        "      cm_iso_low.append(image)\n",
        "    if indv == '1 - Correct':\n",
        "      image = cv2.imread(camera_settings+\"/\"+indv+\"/\"+file)\n",
        "      image = cv2.resize(image, (128,128), interpolation = cv2.INTER_AREA)\n",
        "      cm_correct.append(image)\n",
        "    if indv == 'b - Shutter Speed Low':\n",
        "      image = cv2.imread(camera_settings+\"/\"+indv+\"/\"+file)\n",
        "      image = cv2.resize(image, (128,128), interpolation = cv2.INTER_AREA)\n",
        "      cm_spd_low.append(image)\n",
        "    if indv == 'd - ISO High':\n",
        "      image = cv2.imread(camera_settings+\"/\"+indv+\"/\"+file)\n",
        "      image = cv2.resize(image, (128,128), interpolation = cv2.INTER_AREA)\n",
        "      cm_iso_high.append(image)\n",
        "    if indv == 'a - Shutter Speed High':\n",
        "      image = cv2.imread(camera_settings+\"/\"+indv+\"/\"+file)\n",
        "      image = cv2.resize(image, (128,128), interpolation = cv2.INTER_AREA)\n",
        "      cm_spd_high.append(image)"
      ]
    },
    {
      "cell_type": "code",
      "execution_count": 25,
      "metadata": {
        "id": "YEl6uVU82IVr"
      },
      "outputs": [],
      "source": [
        "# Generate Labels for each Class in the Data\n",
        "camera_settings_lbls=[]\n",
        "\n",
        "for itm in cm_iso_low:\n",
        "  if itm is not None:\n",
        "    camera_settings_lbls.append([1,0,0,0,0])\n",
        "  else:\n",
        "    print(\"None\")\n",
        "\n",
        "for itm in cm_correct:\n",
        "  if itm is not None:\n",
        "    camera_settings_lbls.append([0,1,0,0,0])\n",
        "  else:\n",
        "    print(\"None\")\n",
        "\n",
        "for itm in cm_spd_low:\n",
        "  if itm is not None:\n",
        "    camera_settings_lbls.append([0,0,1,0,0])\n",
        "  else:\n",
        "    print(\"None\")\n",
        "\n",
        "for itm in cm_iso_high:\n",
        "  if itm is not None:\n",
        "    camera_settings_lbls.append([0,0,0,1,0])\n",
        "  else:\n",
        "    print(\"None\")\n",
        "\n",
        "for itm in cm_spd_high:\n",
        "  if itm is not None:\n",
        "    camera_settings_lbls.append([0,0,0,0,1])\n",
        "  else:\n",
        "    print(\"None\")"
      ]
    },
    {
      "cell_type": "code",
      "execution_count": 26,
      "metadata": {
        "id": "Ef9KoE8h3CAY"
      },
      "outputs": [],
      "source": [
        "# Merge All The Data\n",
        "# Merge Data\n",
        "camera_settings_imgs=[]\n",
        "\n",
        "for itm in cm_iso_low:\n",
        "  if itm is not None:\n",
        "    camera_settings_imgs.append(itm)\n",
        "  else:\n",
        "    print(\"None\")\n",
        "\n",
        "for itm in cm_correct:\n",
        "  if itm is not None:\n",
        "    camera_settings_imgs.append(itm)\n",
        "  else:\n",
        "    print(\"None\")\n",
        "\n",
        "for itm in cm_spd_low:\n",
        "  if itm is not None:\n",
        "    camera_settings_imgs.append(itm)\n",
        "  else:\n",
        "    print(\"None\")\n",
        "\n",
        "for itm in cm_iso_high:\n",
        "  if itm is not None:\n",
        "    camera_settings_imgs.append(itm)\n",
        "  else:\n",
        "    print(\"None\")\n",
        "\n",
        "for itm in cm_spd_high:\n",
        "  if itm is not None:\n",
        "    camera_settings_imgs.append(itm)\n",
        "  else:\n",
        "    print(\"None\")"
      ]
    },
    {
      "cell_type": "code",
      "execution_count": 27,
      "metadata": {
        "id": "GlLK09XC3STS"
      },
      "outputs": [],
      "source": [
        "camera_settings_imgs = np.asarray(camera_settings_imgs).astype('float32')\n",
        "camera_settings_lbls = np.asarray(camera_settings_lbls).astype('float32')"
      ]
    },
    {
      "cell_type": "code",
      "execution_count": 28,
      "metadata": {
        "colab": {
          "base_uri": "https://localhost:8080/"
        },
        "id": "0tAn26FE3yws",
        "outputId": "e9dd4f02-a57f-4bcf-cab2-a83f2bf05b3a"
      },
      "outputs": [
        {
          "name": "stdout",
          "output_type": "stream",
          "text": [
            "500\n",
            "500\n"
          ]
        }
      ],
      "source": [
        "print(len(camera_settings_imgs))\n",
        "print(len(camera_settings_lbls))"
      ]
    },
    {
      "cell_type": "code",
      "execution_count": 29,
      "metadata": {
        "id": "AoYPc8bg339z"
      },
      "outputs": [],
      "source": [
        "# Split Data into Train and Test\n",
        "from sklearn.model_selection import train_test_split\n",
        "\n",
        "X_train, X_test, y_train, y_test = train_test_split(camera_settings_imgs, camera_settings_lbls, test_size=0.2, random_state=42)"
      ]
    },
    {
      "cell_type": "markdown",
      "metadata": {
        "id": "6xaWYdXZ4EwG"
      },
      "source": [
        "# Model Building"
      ]
    },
    {
      "cell_type": "markdown",
      "metadata": {
        "id": "oY4PfND14VYR"
      },
      "source": [
        "## Base Model"
      ]
    },
    {
      "cell_type": "code",
      "execution_count": 40,
      "metadata": {
        "id": "QDUE2m-q4C2b"
      },
      "outputs": [],
      "source": [
        "# Base Model\n",
        "# base model\n",
        "from keras.models import Sequential\n",
        "from keras.layers import Dense, Conv2D, Flatten\n",
        "#create model\n",
        "model_1 = Sequential()\n",
        "#add model layers\n",
        "model_1.add(Conv2D(64, kernel_size=2, activation='relu', input_shape=(128,128,3)))\n",
        "model_1.add(Conv2D(32, kernel_size=2, activation='relu'))\n",
        "model_1.add(Flatten())\n",
        "model_1.add(Dense(5, activation='softmax'))"
      ]
    },
    {
      "cell_type": "code",
      "execution_count": 41,
      "metadata": {
        "id": "mCSXCkmi4JA6"
      },
      "outputs": [],
      "source": [
        "#compile base model using accuracy to measure model performance\n",
        "model_1.compile(optimizer='adam', loss='categorical_crossentropy', metrics=['accuracy'])"
      ]
    },
    {
      "cell_type": "code",
      "execution_count": 42,
      "metadata": {
        "colab": {
          "base_uri": "https://localhost:8080/"
        },
        "id": "9LIea1WS4OEG",
        "outputId": "08a97984-2393-4e60-fd19-dede124abd93"
      },
      "outputs": [
        {
          "name": "stdout",
          "output_type": "stream",
          "text": [
            "Epoch 1/10\n",
            "10/10 [==============================] - 11s 1s/step - loss: 5250.9921 - accuracy: 0.2198 - val_loss: 998.5729 - val_accuracy: 0.1875\n",
            "Epoch 2/10\n",
            "10/10 [==============================] - 10s 1s/step - loss: 561.6751 - accuracy: 0.2568 - val_loss: 44.5295 - val_accuracy: 0.2250\n",
            "Epoch 3/10\n",
            "10/10 [==============================] - 10s 1s/step - loss: 6.7577 - accuracy: 0.4570 - val_loss: 5.3810 - val_accuracy: 0.2500\n",
            "Epoch 4/10\n",
            "10/10 [==============================] - 10s 1s/step - loss: 0.6105 - accuracy: 0.7754 - val_loss: 3.6714 - val_accuracy: 0.2375\n",
            "Epoch 5/10\n",
            "10/10 [==============================] - 10s 1s/step - loss: 0.4851 - accuracy: 0.8939 - val_loss: 4.1660 - val_accuracy: 0.2250\n",
            "Epoch 6/10\n",
            "10/10 [==============================] - 10s 1s/step - loss: 0.3833 - accuracy: 0.9233 - val_loss: 4.5703 - val_accuracy: 0.2125\n",
            "Epoch 7/10\n",
            "10/10 [==============================] - 10s 1s/step - loss: 0.2629 - accuracy: 0.9619 - val_loss: 5.1606 - val_accuracy: 0.1875\n",
            "Epoch 8/10\n",
            "10/10 [==============================] - 10s 1s/step - loss: 0.2350 - accuracy: 0.9569 - val_loss: 6.2100 - val_accuracy: 0.1875\n",
            "Epoch 9/10\n",
            "10/10 [==============================] - 10s 1s/step - loss: 0.2014 - accuracy: 0.9497 - val_loss: 7.2974 - val_accuracy: 0.2000\n",
            "Epoch 10/10\n",
            "10/10 [==============================] - 10s 1s/step - loss: 0.1166 - accuracy: 0.9736 - val_loss: 8.0934 - val_accuracy: 0.2125\n"
          ]
        }
      ],
      "source": [
        "# Train Base Model\n",
        "history_base = model_1.fit(X_train, y_train, epochs=10, shuffle = True, verbose = 1, validation_split=0.2)"
      ]
    },
    {
      "cell_type": "code",
      "execution_count": 45,
      "metadata": {
        "colab": {
          "base_uri": "https://localhost:8080/",
          "height": 573
        },
        "id": "W64nRbcJ8hEa",
        "outputId": "4f0f8abe-f684-4512-bae3-5ee19c41ae47"
      },
      "outputs": [
        {
          "data": {
            "image/png": "[encoded data removed]",
            "text/plain": [
              "<Figure size 432x288 with 1 Axes>"
            ]
          },
          "metadata": {
            "needs_background": "light",
            "tags": []
          },
          "output_type": "display_data"
        },
        {
          "data": {
            "image/png": "[encoded data removed]",
            "text/plain": [
              "<Figure size 432x288 with 1 Axes>"
            ]
          },
          "metadata": {
            "needs_background": "light",
            "tags": []
          },
          "output_type": "display_data"
        }
      ],
      "source": [
        "import matplotlib.pyplot as plt\n",
        "# summarize history for accuracy\n",
        "plt.plot(history_base.history['accuracy'], label='Training Accuracy')\n",
        "plt.plot(history_base.history['val_accuracy'], label='Validation Accuracy')\n",
        "plt.title('Accuracy')\n",
        "plt.ylabel('Accuracy(Training and Validation)')\n",
        "plt.xlabel('epoch')\n",
        "plt.legend(loc='lower right')\n",
        "#plt.legend(['Training'],['Validation'], loc='upper left')\n",
        "plt.title('Training and Validation Accuracy')\n",
        "\n",
        "#plt.legend(['Pretrained'], loc='upper left')\n",
        "plt.show()\n",
        "# summarize history for loss\n",
        "plt.plot(history_base.history['loss'], label='Training Loss')\n",
        "plt.plot(history_base.history['val_loss'], label='Validation Loss')\n",
        "plt.title('Loss')\n",
        "plt.ylabel('Loss(Training and Validation)')\n",
        "plt.xlabel('epoch')\n",
        "#plt.legend(loc='upper right')\n",
        "plt.title('Training and Validation Loss')\n",
        "#plt.legend(loc='upper right')\n",
        "plt.legend(loc='upper right')\n",
        "plt.show()\n"
      ]
    },
    {
      "cell_type": "code",
      "execution_count": 46,
      "metadata": {
        "colab": {
          "base_uri": "https://localhost:8080/"
        },
        "id": "AprPWAaz8qaO",
        "outputId": "6683b35d-18a4-4a8b-a3e9-02dac221b791"
      },
      "outputs": [
        {
          "name": "stdout",
          "output_type": "stream",
          "text": [
            "Train Data: 0.8325\n",
            "Test Data: 0.26\n"
          ]
        }
      ],
      "source": [
        "train_predictions = model_1.predict(X_train)\n",
        "test_predictions = model_1.predict(X_test)\n",
        "\n",
        "from sklearn.metrics import accuracy_score, classification_report\n",
        "\n",
        "print(\"Train Data: \"+str(accuracy_score(y_train.argmax(axis=-1), train_predictions.argmax(axis=-1))))\n",
        "print(\"Test Data: \"+str(accuracy_score(y_test.argmax(axis=-1), test_predictions.argmax(axis=-1))))"
      ]
    },
    {
      "cell_type": "markdown",
      "metadata": {
        "id": "mdKi9Nvl4WpR"
      },
      "source": [
        "## ResNet50"
      ]
    },
    {
      "cell_type": "code",
      "execution_count": 47,
      "metadata": {
        "id": "1YNcngoS4Xmv"
      },
      "outputs": [],
      "source": [
        "#import inception with pre-trained weights. do not include fully #connected layers\n",
        "resnet50 = applications.ResNet50(weights='imagenet', include_top=False)\n",
        "\n",
        "# add a global spatial average pooling layer\n",
        "x = resnet50.output\n",
        "x = GlobalAveragePooling2D()(x)\n",
        "# add a fully-connected layer\n",
        "x = Dense(512, activation='relu')(x)\n",
        "# and a fully connected output/classification layer\n",
        "predictions = Dense(5, activation='softmax')(x)\n",
        "# create the full network so we can train on it\n",
        "resnet50 = Model(inputs=resnet50.input, outputs=predictions)"
      ]
    },
    {
      "cell_type": "code",
      "execution_count": 48,
      "metadata": {
        "id": "RCbPCCCQ4cB0"
      },
      "outputs": [],
      "source": [
        "# Compile\n",
        "resnet50.compile(loss='categorical_crossentropy',\n",
        "              optimizer=optimizers.SGD(lr=1e-4, momentum=0.9),\n",
        "              metrics=['accuracy'])"
      ]
    },
    {
      "cell_type": "code",
      "execution_count": 49,
      "metadata": {
        "colab": {
          "base_uri": "https://localhost:8080/"
        },
        "id": "aEGmho-17xL8",
        "outputId": "78645704-c566-4a32-85a0-83d8edf8f0d2"
      },
      "outputs": [
        {
          "name": "stdout",
          "output_type": "stream",
          "text": [
            "(400, 128, 128, 3)\n",
            "(400, 5)\n"
          ]
        }
      ],
      "source": [
        "print(X_train.shape)\n",
        "print(y_train.shape)"
      ]
    },
    {
      "cell_type": "code",
      "execution_count": 51,
      "metadata": {
        "colab": {
          "base_uri": "https://localhost:8080/"
        },
        "id": "kTsh9r5Z4eTC",
        "outputId": "cc5ceec3-726f-45e6-975e-59ac830cc020"
      },
      "outputs": [
        {
          "name": "stdout",
          "output_type": "stream",
          "text": [
            "Epoch 1/10\n",
            "10/10 [==============================] - 82s 8s/step - loss: 1.8133 - accuracy: 0.1937 - val_loss: 2.2659 - val_accuracy: 0.1875\n",
            "Epoch 2/10\n",
            "10/10 [==============================] - 86s 9s/step - loss: 1.6529 - accuracy: 0.2531 - val_loss: 2.1189 - val_accuracy: 0.2250\n",
            "Epoch 3/10\n",
            "10/10 [==============================] - 82s 8s/step - loss: 1.4517 - accuracy: 0.3656 - val_loss: 2.0192 - val_accuracy: 0.2375\n",
            "Epoch 4/10\n",
            "10/10 [==============================] - 82s 8s/step - loss: 1.2950 - accuracy: 0.5094 - val_loss: 1.9330 - val_accuracy: 0.2500\n",
            "Epoch 5/10\n",
            "10/10 [==============================] - 84s 8s/step - loss: 1.1316 - accuracy: 0.6313 - val_loss: 1.8582 - val_accuracy: 0.2750\n",
            "Epoch 6/10\n",
            "10/10 [==============================] - 85s 9s/step - loss: 1.0162 - accuracy: 0.7375 - val_loss: 1.7913 - val_accuracy: 0.3000\n",
            "Epoch 7/10\n",
            "10/10 [==============================] - 83s 8s/step - loss: 0.9223 - accuracy: 0.7781 - val_loss: 1.7326 - val_accuracy: 0.3125\n",
            "Epoch 8/10\n",
            "10/10 [==============================] - 82s 8s/step - loss: 0.8313 - accuracy: 0.8406 - val_loss: 1.6941 - val_accuracy: 0.2875\n",
            "Epoch 9/10\n",
            "10/10 [==============================] - 84s 8s/step - loss: 0.7758 - accuracy: 0.8625 - val_loss: 1.6603 - val_accuracy: 0.2875\n",
            "Epoch 10/10\n",
            "10/10 [==============================] - 84s 8s/step - loss: 0.6911 - accuracy: 0.8906 - val_loss: 1.6412 - val_accuracy: 0.2750\n"
          ]
        }
      ],
      "source": [
        "history_resnet50 = resnet50.fit(X_train, y_train, epochs=10, shuffle = True, verbose = 1, validation_split=0.2)"
      ]
    },
    {
      "cell_type": "code",
      "execution_count": 52,
      "metadata": {
        "colab": {
          "base_uri": "https://localhost:8080/",
          "height": 573
        },
        "id": "EjldvrfC-DHw",
        "outputId": "8f64325b-b116-4fe2-d9d9-60ea6696f435"
      },
      "outputs": [
        {
          "data": {
            "image/png": "[encoded data removed]",
            "text/plain": [
              "<Figure size 432x288 with 1 Axes>"
            ]
          },
          "metadata": {
            "needs_background": "light",
            "tags": []
          },
          "output_type": "display_data"
        },
        {
          "data": {
            "image/png": "[encoded data removed]",
            "text/plain": [
              "<Figure size 432x288 with 1 Axes>"
            ]
          },
          "metadata": {
            "needs_background": "light",
            "tags": []
          },
          "output_type": "display_data"
        }
      ],
      "source": [
        "import matplotlib.pyplot as plt\n",
        "# summarize history for accuracy\n",
        "plt.plot(history_resnet50.history['accuracy'], label='Training Accuracy')\n",
        "plt.plot(history_resnet50.history['val_accuracy'], label='Validation Accuracy')\n",
        "plt.title('Accuracy')\n",
        "plt.ylabel('Accuracy(Training and Validation)')\n",
        "plt.xlabel('epoch')\n",
        "plt.legend(loc='lower right')\n",
        "#plt.legend(['Training'],['Validation'], loc='upper left')\n",
        "plt.title('Training and Validation Accuracy')\n",
        "\n",
        "#plt.legend(['Pretrained'], loc='upper left')\n",
        "plt.show()\n",
        "# summarize history for loss\n",
        "plt.plot(history_resnet50.history['loss'], label='Training Loss')\n",
        "plt.plot(history_resnet50.history['val_loss'], label='Validation Loss')\n",
        "plt.title('Loss')\n",
        "plt.ylabel('Loss(Training and Validation)')\n",
        "plt.xlabel('epoch')\n",
        "#plt.legend(loc='upper right')\n",
        "plt.title('Training and Validation Loss')\n",
        "#plt.legend(loc='upper right')\n",
        "plt.legend(loc='upper right')\n",
        "plt.show()"
      ]
    },
    {
      "cell_type": "code",
      "execution_count": 53,
      "metadata": {
        "colab": {
          "base_uri": "https://localhost:8080/"
        },
        "id": "HOExaunw-Fh3",
        "outputId": "55762ae1-249b-4db3-856c-7ca462f57f1a"
      },
      "outputs": [
        {
          "name": "stdout",
          "output_type": "stream",
          "text": [
            "Train Data: 0.5225\n",
            "Test Data: 0.21\n"
          ]
        }
      ],
      "source": [
        "train_predictions = resnet50.predict(X_train)\n",
        "test_predictions = resnet50.predict(X_test)\n",
        "\n",
        "from sklearn.metrics import accuracy_score, classification_report\n",
        "\n",
        "print(\"Train Data: \"+str(accuracy_score(y_train.argmax(axis=-1), train_predictions.argmax(axis=-1))))\n",
        "print(\"Test Data: \"+str(accuracy_score(y_test.argmax(axis=-1), test_predictions.argmax(axis=-1))))"
      ]
    },
    {
      "cell_type": "markdown",
      "metadata": {
        "id": "OLU-A4y_4nm6"
      },
      "source": [
        "## ResNet50V2"
      ]
    },
    {
      "cell_type": "code",
      "execution_count": 54,
      "metadata": {
        "colab": {
          "base_uri": "https://localhost:8080/"
        },
        "id": "Tszm9TaT5E-Q",
        "outputId": "c5ed9a69-ec0e-4d59-d753-6f7344e075a7"
      },
      "outputs": [
        {
          "name": "stdout",
          "output_type": "stream",
          "text": [
            "Downloading data from https://storage.googleapis.com/tensorflow/keras-applications/resnet/resnet50v2_weights_tf_dim_ordering_tf_kernels_notop.h5\n",
            "94674944/94668760 [==============================] - 1s 0us/step\n"
          ]
        }
      ],
      "source": [
        "# ResNet50V2\n",
        "resnet50v2 = applications.ResNet50V2(weights='imagenet', include_top=False)\n",
        "\n",
        "# Add a Global Spatial Average Pooling Layer\n",
        "x = resnet50v2.output\n",
        "x = GlobalAveragePooling2D()(x)\n",
        "# Add a Fully Connected Layer\n",
        "x = Dense(512, activation='relu')(x)\n",
        "# And a Fully Connected Output/Classification Layer\n",
        "predictions = Dense(5, activation='softmax')(x)\n",
        "# Create the Full Network so we can train on it\n",
        "resnet50v2 = Model(inputs=resnet50v2.input, outputs=predictions)"
      ]
    },
    {
      "cell_type": "code",
      "execution_count": 55,
      "metadata": {
        "id": "JRkE4t3v5Hfs"
      },
      "outputs": [],
      "source": [
        "# Compile\n",
        "resnet50v2.compile(loss='categorical_crossentropy',\n",
        "              optimizer=optimizers.SGD(lr=1e-4, momentum=0.9),\n",
        "              metrics=['accuracy'])"
      ]
    },
    {
      "cell_type": "code",
      "execution_count": 56,
      "metadata": {
        "colab": {
          "base_uri": "https://localhost:8080/"
        },
        "id": "Blt2niAb5Jfg",
        "outputId": "aaf16748-1733-4dba-e445-80b87c3cf47b"
      },
      "outputs": [
        {
          "name": "stdout",
          "output_type": "stream",
          "text": [
            "Epoch 1/5\n",
            "10/10 [==============================] - 76s 7s/step - loss: 1.7948 - accuracy: 0.2182 - val_loss: 3.4000 - val_accuracy: 0.1500\n",
            "Epoch 2/5\n",
            "10/10 [==============================] - 67s 7s/step - loss: 1.6282 - accuracy: 0.2678 - val_loss: 2.5206 - val_accuracy: 0.1750\n",
            "Epoch 3/5\n",
            "10/10 [==============================] - 66s 7s/step - loss: 1.4363 - accuracy: 0.3948 - val_loss: 2.4694 - val_accuracy: 0.0750\n",
            "Epoch 4/5\n",
            "10/10 [==============================] - 67s 7s/step - loss: 1.2267 - accuracy: 0.5436 - val_loss: 2.3561 - val_accuracy: 0.0875\n",
            "Epoch 5/5\n",
            "10/10 [==============================] - 67s 7s/step - loss: 1.0764 - accuracy: 0.6641 - val_loss: 2.2688 - val_accuracy: 0.1000\n"
          ]
        }
      ],
      "source": [
        "history_resnet50v2 = resnet50v2.fit(X_train, y_train, epochs=5, shuffle = True, verbose = 1, validation_split=0.2)"
      ]
    },
    {
      "cell_type": "code",
      "execution_count": 57,
      "metadata": {
        "colab": {
          "base_uri": "https://localhost:8080/",
          "height": 573
        },
        "id": "ox0-oNcQ-LGP",
        "outputId": "8b5f2810-ae05-474d-d0f5-288d854a2b69"
      },
      "outputs": [
        {
          "data": {
            "image/png": "[encoded data removed]",
            "text/plain": [
              "<Figure size 432x288 with 1 Axes>"
            ]
          },
          "metadata": {
            "needs_background": "light",
            "tags": []
          },
          "output_type": "display_data"
        },
        {
          "data": {
            "image/png": "[encoded data removed]",
            "text/plain": [
              "<Figure size 432x288 with 1 Axes>"
            ]
          },
          "metadata": {
            "needs_background": "light",
            "tags": []
          },
          "output_type": "display_data"
        }
      ],
      "source": [
        "import matplotlib.pyplot as plt\n",
        "# summarize history for accuracy\n",
        "plt.plot(history_resnet50v2.history['accuracy'], label='Training Accuracy')\n",
        "plt.plot(history_resnet50v2.history['val_accuracy'], label='Validation Accuracy')\n",
        "plt.title('Accuracy')\n",
        "plt.ylabel('Accuracy(Training and Validation)')\n",
        "plt.xlabel('epoch')\n",
        "plt.legend(loc='lower right')\n",
        "#plt.legend(['Training'],['Validation'], loc='upper left')\n",
        "plt.title('Training and Validation Accuracy')\n",
        "\n",
        "#plt.legend(['Pretrained'], loc='upper left')\n",
        "plt.show()\n",
        "# summarize history for loss\n",
        "plt.plot(history_resnet50v2.history['loss'], label='Training Loss')\n",
        "plt.plot(history_resnet50v2.history['val_loss'], label='Validation Loss')\n",
        "plt.title('Loss')\n",
        "plt.ylabel('Loss(Training and Validation)')\n",
        "plt.xlabel('epoch')\n",
        "#plt.legend(loc='upper right')\n",
        "plt.title('Training and Validation Loss')\n",
        "#plt.legend(loc='upper right')\n",
        "plt.legend(loc='upper right')\n",
        "plt.show()"
      ]
    },
    {
      "cell_type": "code",
      "execution_count": 58,
      "metadata": {
        "colab": {
          "base_uri": "https://localhost:8080/"
        },
        "id": "GT8MXtEX-NA2",
        "outputId": "52c313dc-3f24-4ce9-9253-b02e31531af5"
      },
      "outputs": [
        {
          "name": "stdout",
          "output_type": "stream",
          "text": [
            "Train Data: 0.1625\n",
            "Test Data: 0.12\n"
          ]
        }
      ],
      "source": [
        "train_predictions = resnet50v2.predict(X_train)\n",
        "test_predictions = resnet50v2.predict(X_test)\n",
        "\n",
        "from sklearn.metrics import accuracy_score, classification_report\n",
        "\n",
        "print(\"Train Data: \"+str(accuracy_score(y_train.argmax(axis=-1), train_predictions.argmax(axis=-1))))\n",
        "print(\"Test Data: \"+str(accuracy_score(y_test.argmax(axis=-1), test_predictions.argmax(axis=-1))))"
      ]
    },
    {
      "cell_type": "code",
      "execution_count": null,
      "metadata": {
        "id": "sBjwfLZn98p8"
      },
      "outputs": [],
      "source": [
        "# Save the Model\n",
        "resnet50.save(\"D:/FYP/Phaedra_BE/resnet50.h5\")"
      ]
    }
  ],
  "metadata": {
    "colab": {
      "name": "CNN Image Classifier.ipynb",
      "provenance": []
    },
    "kernelspec": {
      "display_name": "Python 3",
      "language": "python",
      "name": "python3"
    },
    "language_info": {
      "name": "python",
      "version": "3.8.2"
    },
    "vscode": {
      "interpreter": {
        "hash": "0e451a8057e8bb4f6600fa624f400f34e99ace6d4f92be16a323e0f290be496d"
      }
    }
  },
  "nbformat": 4,
  "nbformat_minor": 0
}
